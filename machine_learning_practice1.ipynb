{
  "nbformat": 4,
  "nbformat_minor": 0,
  "metadata": {
    "colab": {
      "provenance": [],
      "gpuType": "T4",
      "authorship_tag": "ABX9TyPlP/ASr6unVKbiW+UCkhHp",
      "include_colab_link": true
    },
    "kernelspec": {
      "name": "python3",
      "display_name": "Python 3"
    },
    "language_info": {
      "name": "python"
    },
    "accelerator": "GPU"
  },
  "cells": [
    {
      "cell_type": "markdown",
      "metadata": {
        "id": "view-in-github",
        "colab_type": "text"
      },
      "source": [
        "<a href=\"https://colab.research.google.com/github/Rig12332113/ML_practice/blob/main/machine_learning_practice1.ipynb\" target=\"_parent\"><img src=\"https://colab.research.google.com/assets/colab-badge.svg\" alt=\"Open In Colab\"/></a>"
      ]
    },
    {
      "cell_type": "markdown",
      "source": [],
      "metadata": {
        "id": "WV3FRzjdD07H"
      }
    },
    {
      "cell_type": "markdown",
      "source": [
        "# 1. Get Data"
      ],
      "metadata": {
        "id": "Wd8laf47D4gg"
      }
    },
    {
      "cell_type": "code",
      "source": [
        "import pandas as pd\n",
        "import numpy as np\n",
        "\n",
        "\n",
        "# get training data\n",
        "url = \"https://raw.githubusercontent.com/Rig12332113/ML_practice/main/practice1%3Aregression/covid_train.csv?token=GHSAT0AAAAAACWN3K4LXGG34IZWJU47U2ZWZWHGBAQ\"\n",
        "train_data_pd = pd.read_csv(url)\n",
        "train_data = train_data_pd.to_numpy()\n",
        "\n",
        "# get testing data\n",
        "#url = \"https://raw.githubusercontent.com/Rig12332113/ML_practice/main/practice1%3Aregression/covid_test.csv?token=GHSAT0AAAAAACWN3K4LFNBU6GI3KBEDBMFIZWHBCNA\"\n",
        "#test_data = pd.read_csv(url)\n",
        "#test_data.to_numpy()\n"
      ],
      "metadata": {
        "id": "u23adcUfENlZ"
      },
      "execution_count": 2,
      "outputs": []
    },
    {
      "cell_type": "code",
      "source": [
        "type(train_data)\n",
        "train_data"
      ],
      "metadata": {
        "colab": {
          "base_uri": "https://localhost:8080/"
        },
        "id": "8jUG_bpym3Y6",
        "outputId": "d6d1e34f-0fca-4527-ab00-17cc8c1bab02"
      },
      "execution_count": 89,
      "outputs": [
        {
          "output_type": "execute_result",
          "data": {
            "text/plain": [
              "array([[0.00000000e+00, 1.00000000e+00, 0.00000000e+00, ...,\n",
              "        2.70441440e+00, 3.92223292e+01, 1.84907873e+01],\n",
              "       [1.00000000e+00, 1.00000000e+00, 0.00000000e+00, ...,\n",
              "        2.47497290e+00, 4.12090731e+01, 1.63292532e+01],\n",
              "       [2.00000000e+00, 1.00000000e+00, 0.00000000e+00, ...,\n",
              "        2.56994020e+00, 3.96368156e+01, 1.65229315e+01],\n",
              "       ...,\n",
              "       [3.00600000e+03, 0.00000000e+00, 0.00000000e+00, ...,\n",
              "        6.15799930e+00, 3.14924054e+01, 6.15139380e+00],\n",
              "       [3.00700000e+03, 0.00000000e+00, 0.00000000e+00, ...,\n",
              "        5.88602810e+00, 3.23381002e+01, 7.16558010e+00],\n",
              "       [3.00800000e+03, 0.00000000e+00, 0.00000000e+00, ...,\n",
              "        6.17932320e+00, 3.18610673e+01, 1.05350871e+01]])"
            ]
          },
          "metadata": {},
          "execution_count": 89
        }
      ]
    },
    {
      "cell_type": "markdown",
      "source": [
        "# 2. setting torch\n"
      ],
      "metadata": {
        "id": "w6JkMEKQOqK-"
      }
    },
    {
      "cell_type": "code",
      "source": [
        "import torch\n",
        "import torch.nn as nn\n",
        "import torch.optim as optim\n",
        "\n",
        "if torch.cuda.is_available():\n",
        "    device = torch.device(\"cuda\")\n",
        "else:\n",
        "    device = torch.device(\"cpu\")\n",
        "\n",
        "RANDOM_SEED = 42\n",
        "torch.manual_seed(RANDOM_SEED)\n"
      ],
      "metadata": {
        "colab": {
          "base_uri": "https://localhost:8080/"
        },
        "id": "v3S84LBuOuHx",
        "outputId": "9fd3d065-ef92-4f2d-ef3b-5ab9459b3501"
      },
      "execution_count": 3,
      "outputs": [
        {
          "output_type": "execute_result",
          "data": {
            "text/plain": [
              "<torch._C.Generator at 0x78f82eb221d0>"
            ]
          },
          "metadata": {},
          "execution_count": 3
        }
      ]
    },
    {
      "cell_type": "code",
      "source": [
        "#train_data.shape, test_data.shape\n",
        "TEST_RATIO = 0.2\n",
        "train_data_size = round(train_data.shape[0] * (1 - TEST_RATIO))\n",
        "#train_data = torch.from_numpy(train_data).type=torch.float\n",
        "\n",
        "X_train = train_data[:train_data_size, :-1]\n",
        "X_test = train_data[train_data_size:, :-1]\n",
        "y_train = train_data[:train_data_size:, -1]\n",
        "y_test = train_data[train_data_size:, -1]\n",
        "\n",
        "X_train = torch.from_numpy(X_train).type(torch.float).to(device)\n",
        "X_test = torch.from_numpy(X_test).type(torch.float).to(device)\n",
        "y_train = torch.from_numpy(y_train).type(torch.float).to(device)\n",
        "y_test = torch.from_numpy(y_test).type(torch.float).to(device)\n"
      ],
      "metadata": {
        "id": "i8yA8buTYnWi"
      },
      "execution_count": 4,
      "outputs": []
    },
    {
      "cell_type": "code",
      "source": [
        "X_train.size(), X_test.size(), y_train.size(), y_test.size()"
      ],
      "metadata": {
        "colab": {
          "base_uri": "https://localhost:8080/"
        },
        "id": "FUoibX-YvKkS",
        "outputId": "87cf988e-4f87-4f0d-a251-c912926965d3"
      },
      "execution_count": 165,
      "outputs": [
        {
          "output_type": "execute_result",
          "data": {
            "text/plain": [
              "(torch.Size([2407, 88]),\n",
              " torch.Size([602, 88]),\n",
              " torch.Size([2407]),\n",
              " torch.Size([602]))"
            ]
          },
          "metadata": {},
          "execution_count": 165
        }
      ]
    },
    {
      "cell_type": "code",
      "source": [
        "y_train.dtype, y_test.dtype"
      ],
      "metadata": {
        "colab": {
          "base_uri": "https://localhost:8080/"
        },
        "id": "FEbAbqXT_H7y",
        "outputId": "3a76b1dd-2d33-4ce3-e144-0b21a5e3b50d"
      },
      "execution_count": 174,
      "outputs": [
        {
          "output_type": "execute_result",
          "data": {
            "text/plain": [
              "(torch.float32, torch.int32)"
            ]
          },
          "metadata": {},
          "execution_count": 174
        }
      ]
    },
    {
      "cell_type": "markdown",
      "source": [
        "# 3. Build model"
      ],
      "metadata": {
        "id": "8aahtbAHW_PW"
      }
    },
    {
      "cell_type": "code",
      "source": [
        "INPUT_SIZE = 88\n",
        "OUTPUT_SIZE = 1\n",
        "class model0(nn.Module):\n",
        "    def __init__(self):\n",
        "        super().__init__()\n",
        "        self.linear = nn.Linear(INPUT_SIZE, OUTPUT_SIZE)\n",
        "    def forward(self, X):\n",
        "        return self.linear(X)\n",
        "\n",
        "model_0 = model0().to(device)\n",
        "#list(model_0.parameters())"
      ],
      "metadata": {
        "id": "qpEZcfIVW-TE"
      },
      "execution_count": 123,
      "outputs": []
    },
    {
      "cell_type": "markdown",
      "source": [
        "# 4. Pick loss function and optimizer"
      ],
      "metadata": {
        "id": "p7yoQ3MffgPg"
      }
    },
    {
      "cell_type": "code",
      "source": [
        "loss_fn = nn.MSELoss()\n",
        "optimizer = optim.Adam(model_0.parameters(), lr=0.1)\n"
      ],
      "metadata": {
        "id": "7vcq5OHdfa45"
      },
      "execution_count": 127,
      "outputs": []
    },
    {
      "cell_type": "markdown",
      "source": [
        "# 5. training"
      ],
      "metadata": {
        "id": "CinSOtPmgbC8"
      }
    },
    {
      "cell_type": "code",
      "source": [
        "def train(model, loss_fn, optimizer, train_data, train_label, epoch):\n",
        "    pred = model(train_data).squeeze()\n",
        "    loss = loss_fn(pred, train_label)\n",
        "    optimizer.zero_grad()\n",
        "    loss.backward()\n",
        "    optimizer.step()\n",
        "    if epoch % 50 == 0:\n",
        "        print(f\"Epoch: {epoch}, Loss: {loss.item()}\")\n",
        "\n",
        "def test(model, loss_fn, optimizer, test_data, test_label):\n",
        "    model.eval()\n",
        "    with torch.inference_mode():\n",
        "        pred = model(test_data).squeeze()\n",
        "        loss = loss_fn(pred, test_label)\n",
        "        print(f\"Test Loss: {loss.item()}\")\n",
        "    return pred"
      ],
      "metadata": {
        "id": "300CRluVgeD9"
      },
      "execution_count": 117,
      "outputs": []
    },
    {
      "cell_type": "code",
      "source": [
        "EPOCHS = 500\n",
        "for epoch in range(EPOCHS):\n",
        "    train(model_0, loss_fn, optimizer, X_train, y_train, epoch)\n",
        "pred = test(model_0, loss_fn, optimizer, X_test, y_test)\n"
      ],
      "metadata": {
        "colab": {
          "base_uri": "https://localhost:8080/"
        },
        "id": "k8ARxOC5jqrq",
        "outputId": "18034a2f-9803-4e5c-94a5-c62f4afedef2"
      },
      "execution_count": 130,
      "outputs": [
        {
          "output_type": "stream",
          "name": "stdout",
          "text": [
            "Epoch: 0, Loss: 1.4927467107772827\n",
            "Epoch: 50, Loss: 1.4366214275360107\n",
            "Epoch: 100, Loss: 1.3876752853393555\n",
            "Epoch: 150, Loss: 1.3442546129226685\n",
            "Epoch: 200, Loss: 1.305418848991394\n",
            "Epoch: 250, Loss: 1.2705503702163696\n",
            "Epoch: 300, Loss: 1.2391873598098755\n",
            "Epoch: 350, Loss: 1.210951805114746\n",
            "Epoch: 400, Loss: 1.1855149269104004\n",
            "Epoch: 450, Loss: 1.1625827550888062\n",
            "Test Loss: 1.203270435333252\n"
          ]
        }
      ]
    },
    {
      "cell_type": "markdown",
      "source": [
        "# 6. Evaluate"
      ],
      "metadata": {
        "id": "L0mXggED_7g_"
      }
    },
    {
      "cell_type": "code",
      "source": [
        "def acc(pred, truth):\n",
        "    count = 0\n",
        "    for i in range(pred.size()[0]):\n",
        "        if (pred[i] == truth[i]):\n",
        "            count += 1\n",
        "    return count / pred.size()[0] * 100\n"
      ],
      "metadata": {
        "id": "Di5EFnd8__Pi"
      },
      "execution_count": 196,
      "outputs": []
    },
    {
      "cell_type": "code",
      "source": [
        "import matplotlib.pyplot as plt\n",
        "index = [i for i in range(pred.size()[0])]\n",
        "plt.scatter(index, pred.cpu(), c='b', s=1)\n",
        "plt.scatter(index, y_test.cpu(), c='r', s=1)\n",
        "plt.show()"
      ],
      "metadata": {
        "colab": {
          "base_uri": "https://localhost:8080/",
          "height": 430
        },
        "id": "ZHEzQxOtBB9F",
        "outputId": "510fa637-428c-4593-9ce5-8d16eb9340d2"
      },
      "execution_count": 131,
      "outputs": [
        {
          "output_type": "display_data",
          "data": {
            "text/plain": [
              "<Figure size 640x480 with 1 Axes>"
            ],
            "image/png": "[encoded data removed]"
          },
          "metadata": {}
        }
      ]
    },
    {
      "cell_type": "markdown",
      "source": [
        "# 7. Try different model"
      ],
      "metadata": {
        "id": "lV-sCj02TgtF"
      }
    },
    {
      "cell_type": "code",
      "source": [
        "INPUT_SIZE = 88\n",
        "HIDDEN_SIZE = 128\n",
        "OUTPUT_SIZE = 1\n",
        "class model1(nn.Module):\n",
        "    def __init__(self):\n",
        "        super().__init__()\n",
        "        self.linear_stack = nn.Sequential(\n",
        "            nn.Linear(INPUT_SIZE, HIDDEN_SIZE),\n",
        "            nn.ReLU(),\n",
        "            nn.Linear(HIDDEN_SIZE, OUTPUT_SIZE)\n",
        "        )\n",
        "    def forward(self, X):\n",
        "        return self.linear_stack(X)\n",
        "\n",
        "model_1 = model1().to(device)\n",
        "#list(model_1.parameters())"
      ],
      "metadata": {
        "id": "vMZ_LZOEEFtB"
      },
      "execution_count": 159,
      "outputs": []
    },
    {
      "cell_type": "code",
      "source": [
        "loss_fn = nn.MSELoss()\n",
        "optimizer = optim.Adam(model_1.parameters(), lr=0.01)\n"
      ],
      "metadata": {
        "id": "6w1oljW7RgV8"
      },
      "execution_count": 160,
      "outputs": []
    },
    {
      "cell_type": "code",
      "source": [
        "EPOCHS = 1000\n",
        "for epoch in range(EPOCHS):\n",
        "    train(model_1, loss_fn, optimizer, X_train, y_train, epoch)\n",
        "pred = test(model_1, loss_fn, optimizer, X_test, y_test)"
      ],
      "metadata": {
        "colab": {
          "base_uri": "https://localhost:8080/"
        },
        "id": "wP21sneHESpg",
        "outputId": "ad1ae76e-dca5-4488-a906-40f5a9481adf"
      },
      "execution_count": 161,
      "outputs": [
        {
          "output_type": "stream",
          "name": "stdout",
          "text": [
            "Epoch: 0, Loss: 5139.18408203125\n",
            "Epoch: 50, Loss: 29.91853141784668\n",
            "Epoch: 100, Loss: 9.964245796203613\n",
            "Epoch: 150, Loss: 7.143641471862793\n",
            "Epoch: 200, Loss: 6.035637855529785\n",
            "Epoch: 250, Loss: 5.182222843170166\n",
            "Epoch: 300, Loss: 4.4394426345825195\n",
            "Epoch: 350, Loss: 3.7748029232025146\n",
            "Epoch: 400, Loss: 3.2109792232513428\n",
            "Epoch: 450, Loss: 2.746454954147339\n",
            "Epoch: 500, Loss: 2.371325731277466\n",
            "Epoch: 550, Loss: 2.088252544403076\n",
            "Epoch: 600, Loss: 1.882554054260254\n",
            "Epoch: 650, Loss: 1.729873538017273\n",
            "Epoch: 700, Loss: 1.614902138710022\n",
            "Epoch: 750, Loss: 1.5299149751663208\n",
            "Epoch: 800, Loss: 1.4673467874526978\n",
            "Epoch: 850, Loss: 1.4165074825286865\n",
            "Epoch: 900, Loss: 1.375850796699524\n",
            "Epoch: 950, Loss: 1.3414922952651978\n",
            "Test Loss: 1.634769082069397\n"
          ]
        }
      ]
    },
    {
      "cell_type": "code",
      "source": [
        "import matplotlib.pyplot as plt\n",
        "index = [i for i in range(pred.size()[0])]\n",
        "plt.scatter(index, pred.cpu(), c='b', s=1)\n",
        "plt.scatter(index, y_test.cpu(), c='r', s=1)\n",
        "plt.show()"
      ],
      "metadata": {
        "colab": {
          "base_uri": "https://localhost:8080/",
          "height": 430
        },
        "id": "kbmbqJBmTCUZ",
        "outputId": "916faaf2-ecfd-43fc-c80a-001ff858684b"
      },
      "execution_count": 162,
      "outputs": [
        {
          "output_type": "display_data",
          "data": {
            "text/plain": [
              "<Figure size 640x480 with 1 Axes>"
            ],
            "image/png": "[encoded data removed]"
          },
          "metadata": {}
        }
      ]
    }
  ]
}