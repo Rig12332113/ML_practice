{
  "nbformat": 4,
  "nbformat_minor": 0,
  "metadata": {
    "colab": {
      "provenance": [],
      "gpuType": "T4",
      "authorship_tag": "ABX9TyOjmwED1lt/GHN7Yh0kybr8",
      "include_colab_link": true
    },
    "kernelspec": {
      "name": "python3",
      "display_name": "Python 3"
    },
    "language_info": {
      "name": "python"
    },
    "accelerator": "GPU"
  },
  "cells": [
    {
      "cell_type": "markdown",
      "metadata": {
        "id": "view-in-github",
        "colab_type": "text"
      },
      "source": [
        "<a href=\"https://colab.research.google.com/github/Rig12332113/ML_practice/blob/main/practice2%3Aclaasification/machine_learning_practice2.ipynb\" target=\"_parent\"><img src=\"https://colab.research.google.com/assets/colab-badge.svg\" alt=\"Open In Colab\"/></a>"
      ]
    },
    {
      "cell_type": "markdown",
      "source": [
        "# 1. Get data"
      ],
      "metadata": {
        "id": "2UFYrJV7ta8y"
      }
    },
    {
      "cell_type": "code",
      "source": [
        "!pip install --upgrade gdown\n",
        "\n",
        "# Main link\n",
        "# !gdown --id '1N1eVIDe9hKM5uiNRGmifBlwSDGiVXPJe' --output libriphone.zip\n",
        "!gdown --id '1qzCRnywKh30mTbWUEjXuNT2isOCAPdO1' --output libriphone.zip\n",
        "\n",
        "!unzip -q libriphone.zip\n",
        "!ls libriphone"
      ],
      "metadata": {
        "colab": {
          "base_uri": "https://localhost:8080/"
        },
        "id": "9SJsRrjStaKs",
        "outputId": "f79656c4-c96c-4264-bc7c-a3a25eddef65"
      },
      "execution_count": 1,
      "outputs": [
        {
          "output_type": "stream",
          "name": "stdout",
          "text": [
            "Requirement already satisfied: gdown in /usr/local/lib/python3.10/dist-packages (5.1.0)\n",
            "Collecting gdown\n",
            "  Downloading gdown-5.2.0-py3-none-any.whl.metadata (5.8 kB)\n",
            "Requirement already satisfied: beautifulsoup4 in /usr/local/lib/python3.10/dist-packages (from gdown) (4.12.3)\n",
            "Requirement already satisfied: filelock in /usr/local/lib/python3.10/dist-packages (from gdown) (3.15.4)\n",
            "Requirement already satisfied: requests[socks] in /usr/local/lib/python3.10/dist-packages (from gdown) (2.32.3)\n",
            "Requirement already satisfied: tqdm in /usr/local/lib/python3.10/dist-packages (from gdown) (4.66.5)\n",
            "Requirement already satisfied: soupsieve>1.2 in /usr/local/lib/python3.10/dist-packages (from beautifulsoup4->gdown) (2.6)\n",
            "Requirement already satisfied: charset-normalizer<4,>=2 in /usr/local/lib/python3.10/dist-packages (from requests[socks]->gdown) (3.3.2)\n",
            "Requirement already satisfied: idna<4,>=2.5 in /usr/local/lib/python3.10/dist-packages (from requests[socks]->gdown) (3.7)\n",
            "Requirement already satisfied: urllib3<3,>=1.21.1 in /usr/local/lib/python3.10/dist-packages (from requests[socks]->gdown) (2.0.7)\n",
            "Requirement already satisfied: certifi>=2017.4.17 in /usr/local/lib/python3.10/dist-packages (from requests[socks]->gdown) (2024.7.4)\n",
            "Requirement already satisfied: PySocks!=1.5.7,>=1.5.6 in /usr/local/lib/python3.10/dist-packages (from requests[socks]->gdown) (1.7.1)\n",
            "Downloading gdown-5.2.0-py3-none-any.whl (18 kB)\n",
            "Installing collected packages: gdown\n",
            "  Attempting uninstall: gdown\n",
            "    Found existing installation: gdown 5.1.0\n",
            "    Uninstalling gdown-5.1.0:\n",
            "      Successfully uninstalled gdown-5.1.0\n",
            "Successfully installed gdown-5.2.0\n",
            "/usr/local/lib/python3.10/dist-packages/gdown/__main__.py:140: FutureWarning: Option `--id` was deprecated in version 4.3.1 and will be removed in 5.0. You don't need to pass it anymore to use a file ID.\n",
            "  warnings.warn(\n",
            "Downloading...\n",
            "From (original): https://drive.google.com/uc?id=1qzCRnywKh30mTbWUEjXuNT2isOCAPdO1\n",
            "From (redirected): https://drive.google.com/uc?id=1qzCRnywKh30mTbWUEjXuNT2isOCAPdO1&confirm=t&uuid=4ea8c2b0-1d17-4d4c-9584-627b9fdf9fae\n",
            "To: /content/libriphone.zip\n",
            "100% 384M/384M [00:07<00:00, 49.1MB/s]\n",
            "feat  test_split.txt  train_labels.txt\ttrain_split.txt\n"
          ]
        }
      ]
    },
    {
      "cell_type": "markdown",
      "source": [
        "# 2. Data preprocessing"
      ],
      "metadata": {
        "id": "kymClQMxt0P5"
      }
    },
    {
      "cell_type": "code",
      "source": [
        "import os\n",
        "import torch\n",
        "from tqdm import tqdm\n",
        "\n",
        "def load_feat(path):\n",
        "    feat = torch.load(path)\n",
        "    return feat\n",
        "\n",
        "def shift(x, n):\n",
        "    if n < 0:\n",
        "        left = x[0].repeat(-n, 1)\n",
        "        right = x[:n]\n",
        "    elif n > 0:\n",
        "        right = x[-1].repeat(n, 1)\n",
        "        left = x[n:]\n",
        "    else:\n",
        "        return x\n",
        "\n",
        "    return torch.cat((left, right), dim=0)\n",
        "\n",
        "def concat_feat(x, concat_n):\n",
        "    assert concat_n % 2 == 1 # n must be odd\n",
        "    if concat_n < 2:\n",
        "        return x\n",
        "    seq_len, feature_dim = x.size(0), x.size(1)\n",
        "    x = x.repeat(1, concat_n)\n",
        "    x = x.view(seq_len, concat_n, feature_dim).permute(1, 0, 2) # concat_n, seq_len, feature_dim\n",
        "    mid = (concat_n // 2)\n",
        "    for r_idx in range(1, mid+1):\n",
        "        x[mid + r_idx, :] = shift(x[mid + r_idx], r_idx)\n",
        "        x[mid - r_idx, :] = shift(x[mid - r_idx], -r_idx)\n",
        "\n",
        "    return x.permute(1, 0, 2).view(seq_len, concat_n * feature_dim)\n",
        "\n",
        "def preprocess_data(split, feat_dir, phone_path, concat_nframes, train_ratio=0.8, random_seed=1213):\n",
        "    class_num = 41 # NOTE: pre-computed, should not need change\n",
        "\n",
        "    if split == 'train' or split == 'val':\n",
        "        mode = 'train'\n",
        "    elif split == 'test':\n",
        "        mode = 'test'\n",
        "    else:\n",
        "        raise ValueError('Invalid \\'split\\' argument for dataset: PhoneDataset!')\n",
        "\n",
        "    label_dict = {}\n",
        "    if mode == 'train':\n",
        "        for line in open(os.path.join(phone_path, f'{mode}_labels.txt')).readlines():\n",
        "            line = line.strip('\\n').split(' ')\n",
        "            label_dict[line[0]] = [int(p) for p in line[1:]]\n",
        "\n",
        "        # split training and validation data\n",
        "        usage_list = open(os.path.join(phone_path, 'train_split.txt')).readlines()\n",
        "        random.seed(random_seed)\n",
        "        random.shuffle(usage_list)\n",
        "        train_len = int(len(usage_list) * train_ratio)\n",
        "        usage_list = usage_list[:train_len] if split == 'train' else usage_list[train_len:]\n",
        "\n",
        "    elif mode == 'test':\n",
        "        usage_list = open(os.path.join(phone_path, 'test_split.txt')).readlines()\n",
        "\n",
        "    usage_list = [line.strip('\\n') for line in usage_list]\n",
        "    print('[Dataset] - # phone classes: ' + str(class_num) + ', number of utterances for ' + split + ': ' + str(len(usage_list)))\n",
        "\n",
        "    max_len = 3000000\n",
        "    X = torch.empty(max_len, 39 * concat_nframes)\n",
        "    if mode == 'train':\n",
        "        y = torch.empty(max_len, dtype=torch.long)\n",
        "\n",
        "    idx = 0\n",
        "    for i, fname in tqdm(enumerate(usage_list)):\n",
        "        feat = load_feat(os.path.join(feat_dir, mode, f'{fname}.pt'))\n",
        "        cur_len = len(feat)\n",
        "        feat = concat_feat(feat, concat_nframes)\n",
        "        if mode == 'train':\n",
        "          label = torch.LongTensor(label_dict[fname])\n",
        "\n",
        "        X[idx: idx + cur_len, :] = feat\n",
        "        if mode == 'train':\n",
        "          y[idx: idx + cur_len] = label\n",
        "\n",
        "        idx += cur_len\n",
        "\n",
        "    X = X[:idx, :]\n",
        "    if mode == 'train':\n",
        "      y = y[:idx]\n",
        "\n",
        "    print(f'[INFO] {split} set')\n",
        "    print(X.shape)\n",
        "    if mode == 'train':\n",
        "      print(y.shape)\n",
        "      return X, y\n",
        "    else:\n",
        "      return X\n"
      ],
      "metadata": {
        "id": "4D6kHHYmt-a6"
      },
      "execution_count": 2,
      "outputs": []
    },
    {
      "cell_type": "markdown",
      "source": [
        "# 2-1: random parameter setting"
      ],
      "metadata": {
        "id": "2OE9wue6nOnX"
      }
    },
    {
      "cell_type": "code",
      "source": [
        "import numpy as np\n",
        "import torch\n",
        "import random\n",
        "\n",
        "def same_seeds(seed):\n",
        "    random.seed(seed)\n",
        "    np.random.seed(seed)\n",
        "    torch.manual_seed(seed)\n",
        "    if torch.cuda.is_available():\n",
        "        torch.cuda.manual_seed(seed)\n",
        "        torch.cuda.manual_seed_all(seed)\n",
        "    torch.backends.cudnn.benchmark = False\n",
        "    torch.backends.cudnn.deterministic = True"
      ],
      "metadata": {
        "id": "5LGQqlfxnYO7"
      },
      "execution_count": 3,
      "outputs": []
    },
    {
      "cell_type": "markdown",
      "source": [
        "# 3. Dataset\n"
      ],
      "metadata": {
        "id": "XS9wlgRylsXh"
      }
    },
    {
      "cell_type": "code",
      "source": [
        "import torch\n",
        "from torch.utils.data import Dataset\n",
        "\n",
        "class LibriDataset(Dataset):\n",
        "    def __init__(self, X, y=None):\n",
        "        self.data = X\n",
        "        if y is not None:\n",
        "            self.label = torch.LongTensor(y)\n",
        "        else:\n",
        "            self.label = None\n",
        "\n",
        "    def __getitem__(self, idx):\n",
        "        if self.label is not None:\n",
        "            return self.data[idx], self.label[idx]\n",
        "        else:\n",
        "            return self.data[idx]\n",
        "\n",
        "    def __len__(self):\n",
        "        return len(self.data)\n"
      ],
      "metadata": {
        "id": "WVzZ2TyDluig"
      },
      "execution_count": 4,
      "outputs": []
    },
    {
      "cell_type": "markdown",
      "source": [
        "# 5. Model and training"
      ],
      "metadata": {
        "id": "MUiJEgIontVv"
      }
    },
    {
      "cell_type": "code",
      "source": [
        "# data parameter\n",
        "concat_nframes = 11\n",
        "training_ratio = 0.8\n",
        "\n",
        "# training parameter\n",
        "RANDOM_SEED = 42\n",
        "same_seeds(RANDOM_SEED)\n",
        "BATCH_SIZE = 256\n",
        "EPOCHS = 10\n",
        "learning_rate = 0.001\n",
        "\n",
        "# model parameter\n",
        "INPUT_DIM = 39 * concat_nframes\n",
        "HIDDEN_DIM = 512\n",
        "OUTPUT_DIM = 41\n"
      ],
      "metadata": {
        "id": "2om_NXAWpX1q"
      },
      "execution_count": 80,
      "outputs": []
    },
    {
      "cell_type": "code",
      "source": [
        "from torch.utils.data import DataLoader\n",
        "import gc\n",
        "\n",
        "device = 'cuda' if torch.cuda.is_available() else 'cpu'\n",
        "print(f'DEVICE: {device}')\n",
        "\n",
        "# preprocess data\n",
        "train_X, train_y = preprocess_data(split='train', feat_dir='./libriphone/feat', phone_path='./libriphone', concat_nframes=concat_nframes, train_ratio=training_ratio, random_seed=RANDOM_SEED)\n",
        "val_X, val_y = preprocess_data(split='val', feat_dir='./libriphone/feat', phone_path='./libriphone', concat_nframes=concat_nframes, train_ratio=training_ratio, random_seed=RANDOM_SEED)\n",
        "\n",
        "# get dataset\n",
        "train_set = LibriDataset(train_X, train_y)\n",
        "val_set = LibriDataset(val_X, val_y)\n",
        "\n",
        "# remove raw feature to save memory\n",
        "del train_X, train_y, val_X\n",
        "gc.collect()\n",
        "\n",
        "# get dataloader\n",
        "train_loader = DataLoader(train_set, batch_size=BATCH_SIZE, shuffle=True)\n",
        "val_loader = DataLoader(val_set, batch_size=BATCH_SIZE, shuffle=False)"
      ],
      "metadata": {
        "colab": {
          "base_uri": "https://localhost:8080/"
        },
        "id": "dZaz--XIl6FB",
        "outputId": "376eda40-0579-412a-94a0-2e64fbf1cb2a"
      },
      "execution_count": 81,
      "outputs": [
        {
          "output_type": "stream",
          "name": "stdout",
          "text": [
            "DEVICE: cuda\n",
            "[Dataset] - # phone classes: 41, number of utterances for train: 2743\n"
          ]
        },
        {
          "output_type": "stream",
          "name": "stderr",
          "text": [
            "2743it [00:06, 443.40it/s]\n"
          ]
        },
        {
          "output_type": "stream",
          "name": "stdout",
          "text": [
            "[INFO] train set\n",
            "torch.Size([1689304, 429])\n",
            "torch.Size([1689304])\n",
            "[Dataset] - # phone classes: 41, number of utterances for val: 686\n"
          ]
        },
        {
          "output_type": "stream",
          "name": "stderr",
          "text": [
            "686it [00:01, 515.59it/s]\n"
          ]
        },
        {
          "output_type": "stream",
          "name": "stdout",
          "text": [
            "[INFO] val set\n",
            "torch.Size([427490, 429])\n",
            "torch.Size([427490])\n"
          ]
        }
      ]
    },
    {
      "cell_type": "code",
      "source": [
        "import torch.nn as nn\n",
        "class classifier(nn.Module):\n",
        "    def __init__(self, input_dimension, hidden_dimension, output_dimension):\n",
        "        super(classifier, self).__init__()\n",
        "        self.stack = nn.Sequential(\n",
        "            nn.BatchNorm1d(input_dimension),\n",
        "            nn.Linear(input_dimension, hidden_dimension),\n",
        "            nn.BatchNorm1d(hidden_dimension),\n",
        "            nn.Linear(hidden_dimension, hidden_dimension),\n",
        "            nn.Dropout(0.1),\n",
        "            nn.ReLU(),\n",
        "            nn.BatchNorm1d(hidden_dimension),\n",
        "            nn.Linear(hidden_dimension, hidden_dimension),\n",
        "            nn.Dropout(0.1),\n",
        "            nn.ReLU(),\n",
        "            nn.BatchNorm1d(hidden_dimension),\n",
        "            nn.Linear(hidden_dimension, hidden_dimension),\n",
        "            nn.Dropout(0.1),\n",
        "            nn.ReLU(),\n",
        "            nn.Linear(hidden_dimension, output_dimension)\n",
        "        )\n",
        "    def forward(self, x):\n",
        "        return self.stack(x)\n",
        "\n",
        "model_0 = classifier(INPUT_DIM, HIDDEN_DIM, OUTPUT_DIM).to(device)\n",
        "loss_fn = nn.CrossEntropyLoss()\n",
        "optimizer = torch.optim.Adam(model_0.parameters(), lr= learning_rate)"
      ],
      "metadata": {
        "id": "Ifunad4Cnw4T"
      },
      "execution_count": 82,
      "outputs": []
    },
    {
      "cell_type": "code",
      "source": [
        "best_acc = 0.0\n",
        "for epoch in range(EPOCHS):\n",
        "    train_acc = 0.0\n",
        "    train_loss = 0.0\n",
        "    val_acc = 0.0\n",
        "    val_loss = 0.0\n",
        "\n",
        "    # training\n",
        "    for batchNum, (X, y) in enumerate(tqdm(train_loader)):\n",
        "        model_0.train()\n",
        "        X, y = X.to(device), y.to(device)\n",
        "\n",
        "        # forward\n",
        "        logits = model_0(X)\n",
        "        pred = torch.argmax(logits, dim=1)\n",
        "\n",
        "        # loss\n",
        "        loss = loss_fn(logits, y)\n",
        "        train_loss += loss.item()\n",
        "\n",
        "        # accuracy\n",
        "        train_acc += (pred == y).sum().item()\n",
        "\n",
        "        # zero grad\n",
        "        optimizer.zero_grad()\n",
        "\n",
        "        # backward\n",
        "        loss.backward()\n",
        "\n",
        "        # update parameters\n",
        "        optimizer.step()\n",
        "\n",
        "    # validation\n",
        "    model_0.eval()\n",
        "    with torch.inference_mode():\n",
        "        for batchNum, (X, y) in enumerate(tqdm(val_loader)):\n",
        "            X, y = X.to(device), y.to(device)\n",
        "\n",
        "            # forward\n",
        "            logits = model_0(X)\n",
        "            pred = torch.argmax(logits, 1) # get the index of the class with the highest probability\n",
        "\n",
        "            # loss\n",
        "            loss = loss_fn(logits, y)\n",
        "            val_loss += loss.item()\n",
        "\n",
        "            # accuracy\n",
        "            train_acc += (pred == y).sum().item()\n",
        "            val_acc += (pred == y).sum().item()\n",
        "\n",
        "    print(f'[{epoch+1:03d}/{epoch:03d}] Train Acc: {train_acc/len(train_set):3.5f} Loss: {train_loss/len(train_loader):3.5f} | Val Acc: {val_acc/len(val_set):3.5f} loss: {val_loss/len(val_loader):3.5f}')\n",
        "    if val_acc > best_acc:\n",
        "        best_acc = val_acc\n",
        "        torch.save(model_0.state_dict(), 'best.ckpt')"
      ],
      "metadata": {
        "colab": {
          "base_uri": "https://localhost:8080/"
        },
        "id": "n5-VpMqWq6CD",
        "outputId": "235dc098-f064-4799-c7fb-c32008bed80b"
      },
      "execution_count": 83,
      "outputs": [
        {
          "output_type": "stream",
          "name": "stderr",
          "text": [
            "100%|██████████| 6599/6599 [00:37<00:00, 175.93it/s]\n",
            "100%|██████████| 1670/1670 [00:05<00:00, 302.81it/s]\n"
          ]
        },
        {
          "output_type": "stream",
          "name": "stdout",
          "text": [
            "[001/000] Train Acc: 0.75987 Loss: 1.29698 | Val Acc: 0.63791 loss: 1.14527\n"
          ]
        },
        {
          "output_type": "stream",
          "name": "stderr",
          "text": [
            "100%|██████████| 6599/6599 [00:37<00:00, 175.09it/s]\n",
            "100%|██████████| 1670/1670 [00:04<00:00, 359.16it/s]\n"
          ]
        },
        {
          "output_type": "stream",
          "name": "stdout",
          "text": [
            "[002/001] Train Acc: 0.81248 Loss: 1.12186 | Val Acc: 0.65807 loss: 1.07894\n"
          ]
        },
        {
          "output_type": "stream",
          "name": "stderr",
          "text": [
            "100%|██████████| 6599/6599 [00:37<00:00, 174.84it/s]\n",
            "100%|██████████| 1670/1670 [00:05<00:00, 310.48it/s]\n"
          ]
        },
        {
          "output_type": "stream",
          "name": "stdout",
          "text": [
            "[003/002] Train Acc: 0.83133 Loss: 1.05951 | Val Acc: 0.66543 loss: 1.05272\n"
          ]
        },
        {
          "output_type": "stream",
          "name": "stderr",
          "text": [
            "100%|██████████| 6599/6599 [00:37<00:00, 174.45it/s]\n",
            "100%|██████████| 1670/1670 [00:04<00:00, 337.38it/s]\n"
          ]
        },
        {
          "output_type": "stream",
          "name": "stdout",
          "text": [
            "[004/003] Train Acc: 0.84415 Loss: 1.01894 | Val Acc: 0.67167 loss: 1.03446\n"
          ]
        },
        {
          "output_type": "stream",
          "name": "stderr",
          "text": [
            "100%|██████████| 6599/6599 [00:37<00:00, 175.58it/s]\n",
            "100%|██████████| 1670/1670 [00:04<00:00, 341.57it/s]\n"
          ]
        },
        {
          "output_type": "stream",
          "name": "stdout",
          "text": [
            "[005/004] Train Acc: 0.85344 Loss: 0.98936 | Val Acc: 0.67571 loss: 1.01775\n"
          ]
        },
        {
          "output_type": "stream",
          "name": "stderr",
          "text": [
            "100%|██████████| 6599/6599 [00:37<00:00, 175.05it/s]\n",
            "100%|██████████| 1670/1670 [00:05<00:00, 302.23it/s]\n"
          ]
        },
        {
          "output_type": "stream",
          "name": "stdout",
          "text": [
            "[006/005] Train Acc: 0.86035 Loss: 0.96696 | Val Acc: 0.67805 loss: 1.01316\n"
          ]
        },
        {
          "output_type": "stream",
          "name": "stderr",
          "text": [
            "100%|██████████| 6599/6599 [00:37<00:00, 175.40it/s]\n",
            "100%|██████████| 1670/1670 [00:04<00:00, 360.48it/s]\n"
          ]
        },
        {
          "output_type": "stream",
          "name": "stdout",
          "text": [
            "[007/006] Train Acc: 0.86586 Loss: 0.94848 | Val Acc: 0.67985 loss: 1.00717\n"
          ]
        },
        {
          "output_type": "stream",
          "name": "stderr",
          "text": [
            "100%|██████████| 6599/6599 [00:37<00:00, 174.65it/s]\n",
            "100%|██████████| 1670/1670 [00:05<00:00, 327.04it/s]\n"
          ]
        },
        {
          "output_type": "stream",
          "name": "stdout",
          "text": [
            "[008/007] Train Acc: 0.87115 Loss: 0.93371 | Val Acc: 0.68319 loss: 1.00006\n"
          ]
        },
        {
          "output_type": "stream",
          "name": "stderr",
          "text": [
            "100%|██████████| 6599/6599 [00:37<00:00, 174.78it/s]\n",
            "100%|██████████| 1670/1670 [00:05<00:00, 320.06it/s]\n"
          ]
        },
        {
          "output_type": "stream",
          "name": "stdout",
          "text": [
            "[009/008] Train Acc: 0.87429 Loss: 0.92011 | Val Acc: 0.68288 loss: 0.99911\n"
          ]
        },
        {
          "output_type": "stream",
          "name": "stderr",
          "text": [
            "100%|██████████| 6599/6599 [00:37<00:00, 175.28it/s]\n",
            "100%|██████████| 1670/1670 [00:04<00:00, 358.11it/s]"
          ]
        },
        {
          "output_type": "stream",
          "name": "stdout",
          "text": [
            "[010/009] Train Acc: 0.87760 Loss: 0.90900 | Val Acc: 0.68477 loss: 0.99790\n"
          ]
        },
        {
          "output_type": "stream",
          "name": "stderr",
          "text": [
            "\n"
          ]
        }
      ]
    },
    {
      "cell_type": "markdown",
      "source": [
        "# 6. Evaluate"
      ],
      "metadata": {
        "id": "qsz32ZhWdSGb"
      }
    },
    {
      "cell_type": "code",
      "source": [
        "model_Eval = classifier(INPUT_DIM, HIDDEN_DIM, OUTPUT_DIM).to(device)\n",
        "model_Eval.load_state_dict(torch.load('best.ckpt'))"
      ],
      "metadata": {
        "colab": {
          "base_uri": "https://localhost:8080/"
        },
        "id": "56DdKrn-daUw",
        "outputId": "ba95b3fb-3600-4009-ad47-dc12fb31a811"
      },
      "execution_count": 49,
      "outputs": [
        {
          "output_type": "execute_result",
          "data": {
            "text/plain": [
              "<All keys matched successfully>"
            ]
          },
          "metadata": {},
          "execution_count": 49
        }
      ]
    },
    {
      "cell_type": "code",
      "source": [
        "from torch import tensor\n",
        "model_Eval.eval()\n",
        "outcome = torch.zeros(0).to(device)\n",
        "with torch.inference_mode():\n",
        "    for batchNum, (X, y) in enumerate(tqdm(val_loader)):\n",
        "        X, y = X.to(device), y.to(device)\n",
        "\n",
        "        # forward\n",
        "        logits = model_Eval(X)\n",
        "        outcome = torch.cat((outcome, torch.argmax(logits, dim = 1)), 0)"
      ],
      "metadata": {
        "colab": {
          "base_uri": "https://localhost:8080/"
        },
        "id": "ZzK5uTn4eHSx",
        "outputId": "8bf56b8e-ee28-4d80-c9eb-8b93cc2d95b3"
      },
      "execution_count": 50,
      "outputs": [
        {
          "output_type": "stream",
          "name": "stderr",
          "text": [
            "100%|██████████| 1670/1670 [00:03<00:00, 472.56it/s]\n"
          ]
        }
      ]
    },
    {
      "cell_type": "code",
      "source": [
        "outcome"
      ],
      "metadata": {
        "colab": {
          "base_uri": "https://localhost:8080/"
        },
        "id": "tn_a5AuksXst",
        "outputId": "3472ac22-b875-45d1-ecdf-80eb152f97b7"
      },
      "execution_count": 56,
      "outputs": [
        {
          "output_type": "execute_result",
          "data": {
            "text/plain": [
              "tensor([0., 0., 0.,  ..., 0., 0., 0.], device='cuda:0')"
            ]
          },
          "metadata": {},
          "execution_count": 56
        }
      ]
    },
    {
      "cell_type": "code",
      "source": [
        "# Confusion Matrix is hard to tell the performance of the model\n",
        "import matplotlib.pyplot as plt\n",
        "from sklearn.metrics import confusion_matrix, ConfusionMatrixDisplay\n",
        "cm = confusion_matrix(val_y, outcome.cpu().numpy())\n",
        "display = ConfusionMatrixDisplay(cm)\n",
        "display.plot(include_values=False, cmap='Reds')\n",
        "plt.show()"
      ],
      "metadata": {
        "colab": {
          "base_uri": "https://localhost:8080/",
          "height": 450
        },
        "id": "hARUNwaDfNSq",
        "outputId": "975d7ad6-0c71-41a7-ddc6-02c3a64b8872"
      },
      "execution_count": 57,
      "outputs": [
        {
          "output_type": "display_data",
          "data": {
            "text/plain": [
              "<Figure size 640x480 with 2 Axes>"
            ],
            "image/png": "[encoded data removed]"
          },
          "metadata": {}
        }
      ]
    },
    {
      "cell_type": "markdown",
      "source": [
        "# Some Result\n",
        "- 1. linear plus relu --> accuracy = 0.55068\n",
        "- 2. increase layers --> accuracy = 0.55112 (slightly increase)\n",
        "- 3. try batch normalization --> accuracy = 0.55707\n",
        "- 4. try dropout and more normalization --> accuracy = 0.56188\n",
        "- 5. more parameter (hidden_dimension * 2) --> accuracy = 0.56563\n",
        "- 6. adjust data preprocessing (concatenate to 7) --> accuracy = 0.65069 --> (concatenate to 11) accuracy = 0.68477\n"
      ],
      "metadata": {
        "id": "vi8K26z_o8OD"
      }
    },
    {
      "cell_type": "markdown",
      "source": [
        "# Reference:\n",
        "- sample code: https://colab.research.google.com/drive/1wzeiVy2g7HpSjlidUr0Gi50NnHBWTkvN#scrollTo=Bg-GRd7ywdrL"
      ],
      "metadata": {
        "id": "gSVdoS2Qw_ia"
      }
    }
  ]
}